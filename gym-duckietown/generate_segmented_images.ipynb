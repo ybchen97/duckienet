{
 "cells": [
  {
   "source": [
    "# How to use\n",
    "Since the segmented textures are hard coded, this script is designed to be used to produce both the images and the segmented images. To determine what kind of images to generate, set the boolean value below and swap in the right `texture` and `meshes` folders.\n",
    "\n",
    "Use `generate_valid_positions.ipynb` to generate the valid positions first before running this script"
   ],
   "cell_type": "markdown",
   "metadata": {}
  },
  {
   "cell_type": "code",
   "execution_count": 1,
   "metadata": {},
   "outputs": [],
   "source": [
    "import sys\n",
    "import argparse\n",
    "import pyglet\n",
    "from pyglet.window import key\n",
    "import numpy as np\n",
    "import gym\n",
    "import gym_duckietown\n",
    "from gym_duckietown.envs import DuckietownEnv\n",
    "from gym_duckietown.wrappers import UndistortWrapper"
   ]
  },
  {
   "cell_type": "code",
   "execution_count": 3,
   "metadata": {},
   "outputs": [],
   "source": [
    "segmented = True"
   ]
  },
  {
   "source": [
    "### Read valid positions file"
   ],
   "cell_type": "markdown",
   "metadata": {}
  },
  {
   "cell_type": "code",
   "execution_count": 4,
   "metadata": {},
   "outputs": [
    {
     "output_type": "stream",
     "name": "stdout",
     "text": [
      "Current map:  udem1\nSize of data:  200\n"
     ]
    }
   ],
   "source": [
    "import pickle\n",
    "filepath = \"segmentation/valid_positions.pkl\"\n",
    "f = open(filepath, \"rb\")\n",
    "valid_positions = pickle.load(f)\n",
    "f.close()\n",
    "\n",
    "current_map = valid_positions['current_map']\n",
    "size_n = len(valid_positions['angle'])\n",
    "\n",
    "print(\"Current map: \", current_map)\n",
    "print(\"Size of data: \", size_n)"
   ]
  },
  {
   "source": [
    "## Generate segmented images"
   ],
   "cell_type": "markdown",
   "metadata": {}
  },
  {
   "source": [
    "Need to convert RGB image into label IDs. `labels_info` describe the color to id mapping for the objects that we are concerned with."
   ],
   "cell_type": "markdown",
   "metadata": {}
  },
  {
   "cell_type": "code",
   "execution_count": 5,
   "metadata": {},
   "outputs": [],
   "source": [
    "# Used to allow training of bisenet\n",
    "labels_info = [\n",
    "    { \"name\": \"background\", \"id\": 0, \"color\": [0, 0, 0], \"trainId\": 0 },         # black\n",
    "    { \"name\": \"sky\", \"id\": 1, \"color\": [0, 0, 255], \"trainId\": 1 },              # blue\n",
    "    { \"name\": \"road\", \"id\": 2, \"color\": [0, 255, 0], \"trainId\": 2 },             # green\n",
    "    { \"name\": \"midlane\", \"id\": 3, \"color\": [255, 255, 0], \"trainId\": 3 },        # yellow\n",
    "    { \"name\": \"road_border\", \"id\": 4, \"color\": [255, 255, 255], \"trainId\": 4 },  # white\n",
    "]\n",
    "\n",
    "# Used to force ill-defined colors to belong to one of the colors in this list\n",
    "palette = [label['color'] for label in labels_info]\n",
    "palette = np.array(palette)\n",
    "\n",
    "# Generate RGB lookup table before hand\n",
    "color_map = np.zeros(shape=(256*256*256), dtype='int32')\n",
    "for label in labels_info:\n",
    "    color = label['color']\n",
    "    rgb = color[0] * 65536 + color[1] * 256 + color[2]\n",
    "    color_map[rgb] = label['id']\n",
    "\n",
    "def rgb_to_label(image, color_map):\n",
    "    image = image.dot(np.array([65536, 256, 1], dtype='int32'))\n",
    "    return color_map[image]"
   ]
  },
  {
   "source": [
    "Initialize environment"
   ],
   "cell_type": "markdown",
   "metadata": {}
  },
  {
   "cell_type": "code",
   "execution_count": 6,
   "metadata": {},
   "outputs": [],
   "source": [
    "env = DuckietownEnv(\n",
    "    map_name = current_map,\n",
    "    domain_rand = False # To ensure camera settings are the same across all images\n",
    ")\n",
    "obs = env.reset()"
   ]
  },
  {
   "cell_type": "code",
   "execution_count": 7,
   "metadata": {},
   "outputs": [
    {
     "output_type": "stream",
     "name": "stdout",
     "text": [
      "200 images saved!\n"
     ]
    }
   ],
   "source": [
    "from PIL import Image\n",
    "from scipy.spatial import cKDTree\n",
    "\n",
    "identifier = \"img\"\n",
    "\n",
    "for i in range(size_n):\n",
    "    # Set position\n",
    "    pos, angle = valid_positions['pos'][i], valid_positions['angle'][i]\n",
    "    env.set_agent_info(pos, angle, verbose=False)\n",
    "    img = env.render('rgb_array')\n",
    "    \n",
    "    if segmented:\n",
    "        identifier = \"label\"\n",
    "        \n",
    "        # Force ill-defined colors to colors in palette\n",
    "        img = palette[cKDTree(palette).query(img,k=1)[1]]\n",
    "\n",
    "        # Convert colors to label\n",
    "        img = rgb_to_label(img, color_map)\n",
    "        img = img.astype(np.uint8)\n",
    "        \n",
    "        # Sanity check\n",
    "        if i == 0:\n",
    "            # Map labels to more obvious grayscale colors\n",
    "            lbmap = np.array([0, 200, 255, 150, 200])\n",
    "            check = lbmap[img]\n",
    "            check = check.astype(np.uint8)\n",
    "            check = Image.fromarray(check)\n",
    "            check.show()\n",
    "    \n",
    "\n",
    "    # Resize image to handle Bisenet model i.e. width and height must be divisible by 2^5\n",
    "    # Pad height by 8\n",
    "    if segmented:\n",
    "        img = np.pad(img, ((4,4), (0,0)), mode=\"edge\")\n",
    "    else:\n",
    "        img = np.pad(img, ((4,4), (0,0), (0,0)), mode=\"edge\")\n",
    "\n",
    "    # Save image\n",
    "    im = Image.fromarray(img)\n",
    "    im.save(f\"segmentation/{identifier}{i}.png\")\n",
    "\n",
    "env.close()\n",
    "print(f\"{size_n} images saved!\")"
   ]
  },
  {
   "source": [
    "## Generate annotation file"
   ],
   "cell_type": "markdown",
   "metadata": {}
  },
  {
   "cell_type": "code",
   "execution_count": 4,
   "metadata": {},
   "outputs": [],
   "source": [
    "with open(\"segmentation/annotation.txt\", 'w') as f:\n",
    "    for i in range(size_n):\n",
    "        f.write(f\"img{i}.png,label{i}.png\\n\")"
   ]
  },
  {
   "cell_type": "code",
   "execution_count": null,
   "metadata": {},
   "outputs": [],
   "source": []
  }
 ],
 "metadata": {
  "kernelspec": {
   "name": "python361264bitgymduckietownconda307a504f0c9a44388cdb42a7fadf08fb",
   "display_name": "Python 3.6.12 64-bit ('gym-duckietown': conda)"
  },
  "language_info": {
   "codemirror_mode": {
    "name": "ipython",
    "version": 3
   },
   "file_extension": ".py",
   "mimetype": "text/x-python",
   "name": "python",
   "nbconvert_exporter": "python",
   "pygments_lexer": "ipython3",
   "version": "3.6.12-final"
  }
 },
 "nbformat": 4,
 "nbformat_minor": 4
}