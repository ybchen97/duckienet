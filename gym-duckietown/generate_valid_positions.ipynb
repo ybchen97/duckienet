{
 "metadata": {
  "language_info": {
   "codemirror_mode": {
    "name": "ipython",
    "version": 3
   },
   "file_extension": ".py",
   "mimetype": "text/x-python",
   "name": "python",
   "nbconvert_exporter": "python",
   "pygments_lexer": "ipython3",
   "version": "3.6.12-final"
  },
  "orig_nbformat": 2,
  "kernelspec": {
   "name": "python361264bitgymduckietownconda307a504f0c9a44388cdb42a7fadf08fb",
   "display_name": "Python 3.6.12 64-bit ('gym-duckietown': conda)"
  }
 },
 "nbformat": 4,
 "nbformat_minor": 2,
 "cells": [
  {
   "cell_type": "code",
   "execution_count": 1,
   "metadata": {},
   "outputs": [],
   "source": [
    "import sys\n",
    "import argparse\n",
    "import pyglet\n",
    "from pyglet.window import key\n",
    "import numpy as np\n",
    "import gym\n",
    "import gym_duckietown\n",
    "from gym_duckietown.envs import DuckietownEnv\n",
    "from gym_duckietown.wrappers import UndistortWrapper"
   ]
  },
  {
   "source": [
    "### Choose map and number of positions to generate"
   ],
   "cell_type": "markdown",
   "metadata": {}
  },
  {
   "cell_type": "code",
   "execution_count": 2,
   "metadata": {},
   "outputs": [
    {
     "output_type": "stream",
     "name": "stdout",
     "text": [
      "Current map:  udem1\nSize of data:  100\n"
     ]
    }
   ],
   "source": [
    "map_names = [\n",
    "    \"straight_road\",\n",
    "    \"4way\",\n",
    "    \"udem1\",\n",
    "    \"small_loop\",\n",
    "    \"small_loop_cw\",\n",
    "    \"zigzag_dists\",\n",
    "    \"loop_obstacles\",\n",
    "    \"loop_pedastrians\"\n",
    "]\n",
    "current_map = map_names[2]\n",
    "size_n = 100\n",
    "\n",
    "print(\"Current map: \", current_map)\n",
    "print(\"Size of data: \", size_n)"
   ]
  },
  {
   "cell_type": "code",
   "execution_count": 3,
   "metadata": {},
   "outputs": [],
   "source": [
    "env = DuckietownEnv(map_name=current_map)\n",
    "env.reset()\n",
    "env.start_tile = None  # Remove starting tile limit\n",
    "info = env.get_agent_info()['Simulator']"
   ]
  },
  {
   "source": [
    "### Generate positions"
   ],
   "cell_type": "markdown",
   "metadata": {}
  },
  {
   "cell_type": "code",
   "execution_count": 4,
   "metadata": {
    "tags": []
   },
   "outputs": [
    {
     "output_type": "stream",
     "name": "stdout",
     "text": [
      "Positions generated!\n"
     ]
    }
   ],
   "source": [
    "# Generate list of valid positions\n",
    "valid_positions = {\n",
    "    'current_map': current_map,\n",
    "    'pos': [],\n",
    "    'angle': []\n",
    "}\n",
    "\n",
    "for i in range(size_n):\n",
    "    env.reset()\n",
    "    agent_info = env.get_agent_info()['Simulator']\n",
    "    pos, angle = agent_info['cur_pos'], agent_info['cur_angle']\n",
    "    valid_positions['pos'].append(pos)\n",
    "    valid_positions['angle'].append(angle)\n",
    "\n",
    "env.close()\n",
    "print(\"Positions generated!\")"
   ]
  },
  {
   "source": [
    "### Save positions into a pickle file"
   ],
   "cell_type": "markdown",
   "metadata": {}
  },
  {
   "cell_type": "code",
   "execution_count": 6,
   "metadata": {},
   "outputs": [
    {
     "output_type": "stream",
     "name": "stdout",
     "text": [
      "File saved! Location: /home/yuanbo/projects/2309/gym-duckietown/segmentation/valid_positions.pkl\n"
     ]
    }
   ],
   "source": [
    "import os, pickle\n",
    "filepath = \"segmentation/valid_positions.pkl\"\n",
    "f = open(filepath, \"wb\")\n",
    "pickle.dump(valid_positions, f)\n",
    "f.close()\n",
    "print(f\"File saved! Location: {os.getcwd()}/{filepath}\")"
   ]
  },
  {
   "cell_type": "code",
   "execution_count": null,
   "metadata": {},
   "outputs": [],
   "source": []
  }
 ]
}